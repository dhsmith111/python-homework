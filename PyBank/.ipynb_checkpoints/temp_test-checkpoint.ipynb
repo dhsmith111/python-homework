{
 "cells": [
  {
   "cell_type": "code",
   "execution_count": 17,
   "metadata": {},
   "outputs": [],
   "source": [
    "# import libraries\n",
    "from pathlib import Path\n",
    "import csv\n"
   ]
  },
  {
   "cell_type": "code",
   "execution_count": 18,
   "metadata": {},
   "outputs": [],
   "source": [
    "# set the csv file name and path\n",
    "csv_pathfile = './PyBank_Resources_budget_data.csv'\n"
   ]
  },
  {
   "cell_type": "code",
   "execution_count": 19,
   "metadata": {},
   "outputs": [],
   "source": [
    " # initialize list for budget data,\n",
    "budget_data = []\n"
   ]
  },
  {
   "cell_type": "code",
   "execution_count": 20,
   "metadata": {},
   "outputs": [],
   "source": [
    "# Reset variables\n",
    "net_profit = 0\n",
    "total_months = 0\n",
    "csv_content = None\n",
    "budget_data = []\n",
    "monthly_profit_changes_total = 0"
   ]
  },
  {
   "cell_type": "code",
   "execution_count": 21,
   "metadata": {},
   "outputs": [
    {
     "name": "stdout",
     "output_type": "stream",
     "text": [
      "last_month_profit: 867884\n",
      "monthly_profit_changes_total: 0\n",
      "last_month_profit: 984655\n",
      "monthly_profit_changes_total: 116771\n",
      "last_month_profit: 322013\n",
      "monthly_profit_changes_total: -545871\n",
      "last_month_profit: -69417\n",
      "monthly_profit_changes_total: -937301\n",
      "last_month_profit: 310503\n",
      "monthly_profit_changes_total: -557381\n",
      "last_month_profit: 522857\n",
      "monthly_profit_changes_total: -345027\n",
      "last_month_profit: 1033096\n",
      "monthly_profit_changes_total: 165212\n",
      "last_month_profit: 604885\n",
      "monthly_profit_changes_total: -262999\n",
      "last_month_profit: -216386\n",
      "monthly_profit_changes_total: -1084270\n",
      "last_month_profit: 477532\n",
      "monthly_profit_changes_total: -390352\n",
      "last_month_profit: 893810\n",
      "monthly_profit_changes_total: 25926\n",
      "last_month_profit: -80353\n",
      "monthly_profit_changes_total: -948237\n",
      "last_month_profit: 779806\n",
      "monthly_profit_changes_total: -88078\n",
      "last_month_profit: -335203\n",
      "monthly_profit_changes_total: -1203087\n",
      "last_month_profit: 697845\n",
      "monthly_profit_changes_total: -170039\n",
      "last_month_profit: 793163\n",
      "monthly_profit_changes_total: -74721\n",
      "last_month_profit: 485070\n",
      "monthly_profit_changes_total: -382814\n",
      "last_month_profit: 584122\n",
      "monthly_profit_changes_total: -283762\n",
      "last_month_profit: 62729\n",
      "monthly_profit_changes_total: -805155\n",
      "last_month_profit: 668179\n",
      "monthly_profit_changes_total: -199705\n",
      "last_month_profit: 899906\n",
      "monthly_profit_changes_total: 32022\n",
      "last_month_profit: 834719\n",
      "monthly_profit_changes_total: -33165\n",
      "last_month_profit: 132003\n",
      "monthly_profit_changes_total: -735881\n",
      "last_month_profit: 309978\n",
      "monthly_profit_changes_total: -557906\n",
      "last_month_profit: -755566\n",
      "monthly_profit_changes_total: -1623450\n",
      "last_month_profit: 1170593\n",
      "monthly_profit_changes_total: 302709\n",
      "last_month_profit: 252788\n",
      "monthly_profit_changes_total: -615096\n",
      "last_month_profit: 1151518\n",
      "monthly_profit_changes_total: 283634\n",
      "last_month_profit: 817256\n",
      "monthly_profit_changes_total: -50628\n",
      "last_month_profit: 570757\n",
      "monthly_profit_changes_total: -297127\n",
      "last_month_profit: 506702\n",
      "monthly_profit_changes_total: -361182\n",
      "last_month_profit: -1022534\n",
      "monthly_profit_changes_total: -1890418\n",
      "last_month_profit: 475062\n",
      "monthly_profit_changes_total: -392822\n",
      "last_month_profit: 779976\n",
      "monthly_profit_changes_total: -87908\n",
      "last_month_profit: 144175\n",
      "monthly_profit_changes_total: -723709\n",
      "last_month_profit: 542494\n",
      "monthly_profit_changes_total: -325390\n",
      "last_month_profit: 359333\n",
      "monthly_profit_changes_total: -508551\n",
      "last_month_profit: 321469\n",
      "monthly_profit_changes_total: -546415\n",
      "last_month_profit: 67780\n",
      "monthly_profit_changes_total: -800104\n",
      "last_month_profit: 471435\n",
      "monthly_profit_changes_total: -396449\n",
      "last_month_profit: 565603\n",
      "monthly_profit_changes_total: -302281\n",
      "last_month_profit: 872480\n",
      "monthly_profit_changes_total: 4596\n",
      "last_month_profit: 789480\n",
      "monthly_profit_changes_total: -78404\n",
      "last_month_profit: 999942\n",
      "monthly_profit_changes_total: 132058\n",
      "last_month_profit: -1196225\n",
      "monthly_profit_changes_total: -2064109\n",
      "last_month_profit: 268997\n",
      "monthly_profit_changes_total: -598887\n",
      "last_month_profit: -687986\n",
      "monthly_profit_changes_total: -1555870\n",
      "last_month_profit: 1150461\n",
      "monthly_profit_changes_total: 282577\n",
      "last_month_profit: 682458\n",
      "monthly_profit_changes_total: -185426\n",
      "last_month_profit: 617856\n",
      "monthly_profit_changes_total: -250028\n",
      "last_month_profit: 824098\n",
      "monthly_profit_changes_total: -43786\n",
      "last_month_profit: 581943\n",
      "monthly_profit_changes_total: -285941\n",
      "last_month_profit: 132864\n",
      "monthly_profit_changes_total: -735020\n",
      "last_month_profit: 448062\n",
      "monthly_profit_changes_total: -419822\n",
      "last_month_profit: 689161\n",
      "monthly_profit_changes_total: -178723\n",
      "last_month_profit: 800701\n",
      "monthly_profit_changes_total: -67183\n",
      "last_month_profit: 1166643\n",
      "monthly_profit_changes_total: 298759\n",
      "last_month_profit: 947333\n",
      "monthly_profit_changes_total: 79449\n",
      "last_month_profit: 578668\n",
      "monthly_profit_changes_total: -289216\n",
      "last_month_profit: 988505\n",
      "monthly_profit_changes_total: 120621\n",
      "last_month_profit: 1139715\n",
      "monthly_profit_changes_total: 271831\n",
      "last_month_profit: 1029471\n",
      "monthly_profit_changes_total: 161587\n",
      "last_month_profit: 687533\n",
      "monthly_profit_changes_total: -180351\n",
      "last_month_profit: -524626\n",
      "monthly_profit_changes_total: -1392510\n",
      "last_month_profit: 158620\n",
      "monthly_profit_changes_total: -709264\n",
      "last_month_profit: 87795\n",
      "monthly_profit_changes_total: -780089\n",
      "last_month_profit: 423389\n",
      "monthly_profit_changes_total: -444495\n",
      "last_month_profit: 840723\n",
      "monthly_profit_changes_total: -27161\n",
      "last_month_profit: 568529\n",
      "monthly_profit_changes_total: -299355\n",
      "last_month_profit: 332067\n",
      "monthly_profit_changes_total: -535817\n",
      "last_month_profit: 989499\n",
      "monthly_profit_changes_total: 121615\n",
      "last_month_profit: 778237\n",
      "monthly_profit_changes_total: -89647\n",
      "last_month_profit: 650000\n",
      "monthly_profit_changes_total: -217884\n",
      "last_month_profit: -1100387\n",
      "monthly_profit_changes_total: -1968271\n",
      "last_month_profit: -174946\n",
      "monthly_profit_changes_total: -1042830\n",
      "last_month_profit: 757143\n",
      "monthly_profit_changes_total: -110741\n",
      "last_month_profit: 445709\n",
      "monthly_profit_changes_total: -422175\n",
      "last_month_profit: 712961\n",
      "monthly_profit_changes_total: -154923\n",
      "last_month_profit: -1163797\n",
      "monthly_profit_changes_total: -2031681\n",
      "last_month_profit: 569899\n",
      "monthly_profit_changes_total: -297985\n",
      "last_month_profit: 768450\n",
      "monthly_profit_changes_total: -99434\n",
      "last_month_profit: 102685\n",
      "monthly_profit_changes_total: -765199\n",
      "last_month_profit: 795914\n",
      "monthly_profit_changes_total: -71970\n",
      "last_month_profit: 60988\n",
      "monthly_profit_changes_total: -806896\n",
      "last_month_profit: 138230\n",
      "monthly_profit_changes_total: -729654\n",
      "last_month_profit: 671099\n",
      "monthly_profit_changes_total: -196785\n"
     ]
    }
   ],
   "source": [
    "# Open file to read records\n",
    "with open (csv_pathfile, 'r') as csv_file:\n",
    "\n",
    "    #use csv.reader to collect file object contents into csv_content\n",
    "    csv_content = csv.reader(csv_file, delimiter=',') \n",
    "\n",
    "    # pull out the first/header row\n",
    "    csv_header = next(csv_content)\n",
    "    \n",
    "    # initialize net_profit variable\n",
    "    net_profit = 0\n",
    "    # loop through csv_content by row\n",
    "    for row in csv_content:\n",
    "\n",
    "        # append list entry of date (str) and profit (as int) from row into budget_data list \n",
    "        budget_data.append([row[0],int(row[1])])\n",
    "        \n",
    "        # incement the total number of months included in the dataset by 1\n",
    "        total_months += 1\n",
    "            \n",
    "        # add row[1] to the net total amount of Profit/Losses\n",
    "        net_profit += int(row[1])\n",
    "\n",
    "        # check if budget_data len is 0 (ie first loop iteration)\n",
    "        if len(budget_data) == 1:\n",
    "            # set last_month_profit to row[1] to use in next loop iteration\n",
    "            last_month_profit = int(row[1])\n",
    "            \n",
    "            # and set monthly_profit_changes_total to 0 \n",
    "            monthly_profit_changes_total = 0\n",
    "            \n",
    "            print(f'last_month_profit: {last_month_profit}\\nmonthly_profit_changes_total: {monthly_profit_changes_total}')\n",
    "        else:\n",
    "            # calculate the differnce in profit between current and last months, and add to monthly_profit_changes_total\n",
    "            monthly_profit_diff = int(row[1]) - last_month_profit\n",
    "            monthly_profit_changes_total += monthly_profit_diff\n",
    "\n",
    "            # and set last_month_profit to row[1] to use in next loop iteration\n",
    "            last_month_profit = int(row[1])\n",
    "            print(f'last_month_profit: {last_month_profit}\\nmonthly_profit_changes_total: {monthly_profit_changes_total}')\n",
    "\n",
    " "
   ]
  },
  {
   "cell_type": "code",
   "execution_count": 22,
   "metadata": {},
   "outputs": [
    {
     "name": "stdout",
     "output_type": "stream",
     "text": [
      "86\n",
      "86\n"
     ]
    }
   ],
   "source": [
    "print(total_months)\n",
    "print(len(budget_data))"
   ]
  },
  {
   "cell_type": "code",
   "execution_count": 23,
   "metadata": {},
   "outputs": [
    {
     "name": "stdout",
     "output_type": "stream",
     "text": [
      "38382578\n",
      "-196785\n"
     ]
    }
   ],
   "source": [
    "print(net_profit)\n",
    "print(monthly_profit_changes_total)"
   ]
  },
  {
   "cell_type": "code",
   "execution_count": 24,
   "metadata": {},
   "outputs": [],
   "source": [
    "# calculate the average of the changes in Profit/Losses over the entire period.\n",
    "avg_monthly_change = monthly_profit_changes_total / (total_months - 1) \n"
   ]
  },
  {
   "cell_type": "code",
   "execution_count": 25,
   "metadata": {},
   "outputs": [
    {
     "name": "stdout",
     "output_type": "stream",
     "text": [
      "-2315.12\n"
     ]
    }
   ],
   "source": [
    "print(round(avg_monthly_change,2))"
   ]
  },
  {
   "cell_type": "code",
   "execution_count": 26,
   "metadata": {},
   "outputs": [
    {
     "name": "stdout",
     "output_type": "stream",
     "text": [
      "Financial Analysis\n",
      "--------------------------\n",
      "Total Months: 86\n",
      "Total: $38382578\n",
      "Average Change: $-2315.12\n"
     ]
    }
   ],
   "source": [
    "# output results to stdout and to file\n",
    "print('Financial Analysis')\n",
    "print('--------------------------')\n",
    "print(f'Total Months: {total_months}')\n",
    "print(f'Total: ${net_profit}')\n",
    "print(f'Average Change: ${round(avg_monthly_change,2)}')\n",
    "# Average  Change: $-2315.12\n",
    "# Greatest Increase in Profits: Feb-2012 ($1926159)\n",
    "# Greatest Decrease in Profits: Sep-2013 ($-2196167)\n"
   ]
  },
  {
   "cell_type": "code",
   "execution_count": null,
   "metadata": {},
   "outputs": [],
   "source": []
  }
 ],
 "metadata": {
  "kernelspec": {
   "display_name": "Python 3",
   "language": "python",
   "name": "python3"
  },
  "language_info": {
   "codemirror_mode": {
    "name": "ipython",
    "version": 3
   },
   "file_extension": ".py",
   "mimetype": "text/x-python",
   "name": "python",
   "nbconvert_exporter": "python",
   "pygments_lexer": "ipython3",
   "version": "3.7.7"
  }
 },
 "nbformat": 4,
 "nbformat_minor": 4
}
